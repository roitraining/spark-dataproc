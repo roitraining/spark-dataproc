{
 "cells": [
  {
   "cell_type": "markdown",
   "metadata": {
    "colab_type": "text",
    "id": "-JdIfR70Jxu2"
   },
   "source": [
    "### Set up the Spark environment."
   ]
  },
  {
   "cell_type": "code",
   "execution_count": 1,
   "metadata": {
    "tags": []
   },
   "outputs": [
    {
     "name": "stdout",
     "output_type": "stream",
     "text": [
      "qwiklabs-gcp-00-21f5cc02ae3a\n"
     ]
    }
   ],
   "source": [
    "import subprocess\n",
    "result = subprocess.run([\"gcloud\", \"config\", \"get-value\", \"project\"], stdout=subprocess.PIPE)\n",
    "PROJECT_ID = result.stdout.decode(\"utf-8\").strip()\n",
    "\n",
    "# Print the output\n",
    "print(PROJECT_ID)"
   ]
  },
  {
   "cell_type": "code",
   "execution_count": 2,
   "metadata": {
    "tags": []
   },
   "outputs": [
    {
     "name": "stdout",
     "output_type": "stream",
     "text": [
      "gs://qwiklabs-gcp-00-21f5cc02ae3a-data/datasets gs://qwiklabs-gcp-00-21f5cc02ae3a-output\n"
     ]
    }
   ],
   "source": [
    "SOURCE_PATH = f'gs://{PROJECT_ID}-data/datasets'\n",
    "DEST_PATH = f'gs://{PROJECT_ID}-output'\n",
    "print(SOURCE_PATH, DEST_PATH)"
   ]
  },
  {
   "cell_type": "code",
   "execution_count": 4,
   "metadata": {
    "tags": []
   },
   "outputs": [
    {
     "name": "stdout",
     "output_type": "stream",
     "text": [
      "+---------+--------------------+----------+----------+--------------------+---------+------------+------------+------------+------------+\n",
      "|productid|         productname|supplierid|categoryid|     quantityperunit|unitprice|unitsinstock|unitsonorder|reorderlevel|discontinued|\n",
      "+---------+--------------------+----------+----------+--------------------+---------+------------+------------+------------+------------+\n",
      "|        1|                Chai|         8|         1|  10 boxes x 30 bags|     18.0|          39|           0|          10|           1|\n",
      "|        2|               Chang|         1|         1|  24 - 12 oz bottles|     19.0|          17|          40|          25|           1|\n",
      "|        3|       Aniseed Syrup|         1|         2| 12 - 550 ml bottles|     10.0|          13|          70|          25|           0|\n",
      "|        4|Chef Anton's Caju...|         2|         2|      48 - 6 oz jars|     22.0|          53|           0|           0|           0|\n",
      "|        5|Chef Anton's Gumb...|         2|         2|            36 boxes|    21.35|           0|           0|           0|           1|\n",
      "|        6|Grandma's Boysenb...|         3|         2|      12 - 8 oz jars|     25.0|         120|           0|          25|           0|\n",
      "|        7|Uncle Bob's Organ...|         3|         7|     12 - 1 lb pkgs.|     30.0|          15|           0|          10|           0|\n",
      "|        8|Northwoods Cranbe...|         3|         2|     12 - 12 oz jars|     40.0|           6|           0|           0|           0|\n",
      "|        9|     Mishi Kobe Niku|         4|         6|    18 - 500 g pkgs.|     97.0|          29|           0|           0|           1|\n",
      "|       10|               Ikura|         4|         8|    12 - 200 ml jars|     31.0|          31|           0|           0|           0|\n",
      "|       11|      Queso Cabrales|         5|         4|           1 kg pkg.|     21.0|          22|          30|          30|           0|\n",
      "|       12|Queso Manchego La...|         5|         4|    10 - 500 g pkgs.|     38.0|          86|           0|           0|           0|\n",
      "|       13|               Konbu|         6|         8|            2 kg box|      6.0|          24|           0|           5|           0|\n",
      "|       14|                Tofu|         6|         7|    40 - 100 g pkgs.|    23.25|          35|           0|           0|           0|\n",
      "|       15|        Genen Shouyu|         6|         2| 24 - 250 ml bottles|     13.0|          39|           0|           5|           0|\n",
      "|       16|             Pavlova|         7|         3|    32 - 500 g boxes|    17.45|          29|           0|          10|           0|\n",
      "|       17|        Alice Mutton|         7|         6|      20 - 1 kg tins|     39.0|           0|           0|           0|           1|\n",
      "|       18|    Carnarvon Tigers|         7|         8|          16 kg pkg.|     62.5|          42|           0|           0|           0|\n",
      "|       19|Teatime Chocolate...|         8|         3|10 boxes x 12 pieces|      9.2|          25|           0|           5|           0|\n",
      "|       20|Sir Rodney's Marm...|         8|         3|       30 gift boxes|     81.0|          40|           0|           0|           0|\n",
      "+---------+--------------------+----------+----------+--------------------+---------+------------+------------+------------+------------+\n",
      "only showing top 20 rows\n",
      "\n"
     ]
    }
   ],
   "source": [
    "from pyspark.sql.types import StructType, StructField, IntegerType, StringType, FloatType\n",
    "\n",
    "prodSchema = StructType([\n",
    "    StructField('productid', IntegerType()), \n",
    "    StructField('productname', StringType()),\n",
    "    StructField('supplierid', IntegerType()), \n",
    "    StructField('categoryid', IntegerType()), \n",
    "    StructField('quantityperunit', StringType()), \n",
    "    StructField('unitprice', FloatType()), \n",
    "    StructField('unitsinstock', IntegerType()), \n",
    "    StructField('unitsonorder', IntegerType()), \n",
    "    StructField('reorderlevel', IntegerType()), \n",
    "    StructField('discontinued', IntegerType())\n",
    "])\n",
    "prod = spark.read.json(f'{SOURCE_PATH}/northwind/JSON/products', schema=prodSchema)\n",
    "prod.show()\n"
   ]
  },
  {
   "cell_type": "markdown",
   "metadata": {
    "colab_type": "text",
    "id": "2AG_7asYgUub"
   },
   "source": [
    "## Spark DataFrames can be saved to a Hive table using either the saveAsTable method"
   ]
  },
  {
   "cell_type": "code",
   "execution_count": 8,
   "metadata": {
    "tags": []
   },
   "outputs": [
    {
     "name": "stderr",
     "output_type": "stream",
     "text": [
      "ivysettings.xml file not found in HIVE_HOME or HIVE_CONF_DIR,/etc/hive/conf.dist/ivysettings.xml will be used\n",
      "25/01/16 20:18:45 WARN SessionState: METASTORE_FILTER_HOOK will be ignored, since hive.security.authorization.manager is set to instance of HiveAuthorizerFactory.\n"
     ]
    }
   ],
   "source": [
    "prod.write \\\n",
    "    .mode(\"overwrite\") \\\n",
    "    .saveAsTable(\"products\")\n"
   ]
  },
  {
   "cell_type": "markdown",
   "metadata": {
    "colab_type": "text",
    "id": "S2mr3DIKgUuL"
   },
   "source": [
    "## You can query an existing Hive table and bring it into a Spark DataFrame."
   ]
  },
  {
   "cell_type": "code",
   "execution_count": 9,
   "metadata": {
    "colab": {},
    "colab_type": "code",
    "id": "Pe14VoNmgUuM",
    "tags": []
   },
   "outputs": [
    {
     "name": "stdout",
     "output_type": "stream",
     "text": [
      "DataFrame[productid: int, productname: string, supplierid: int, categoryid: int, quantityperunit: string, unitprice: float, unitsinstock: int, unitsonorder: int, reorderlevel: int, discontinued: int]\n",
      "+---------+--------------------+----------+----------+--------------------+---------+------------+------------+------------+------------+\n",
      "|productid|         productname|supplierid|categoryid|     quantityperunit|unitprice|unitsinstock|unitsonorder|reorderlevel|discontinued|\n",
      "+---------+--------------------+----------+----------+--------------------+---------+------------+------------+------------+------------+\n",
      "|        1|                Chai|         8|         1|  10 boxes x 30 bags|     18.0|          39|           0|          10|           1|\n",
      "|        2|               Chang|         1|         1|  24 - 12 oz bottles|     19.0|          17|          40|          25|           1|\n",
      "|        3|       Aniseed Syrup|         1|         2| 12 - 550 ml bottles|     10.0|          13|          70|          25|           0|\n",
      "|        4|Chef Anton's Caju...|         2|         2|      48 - 6 oz jars|     22.0|          53|           0|           0|           0|\n",
      "|        5|Chef Anton's Gumb...|         2|         2|            36 boxes|    21.35|           0|           0|           0|           1|\n",
      "|        6|Grandma's Boysenb...|         3|         2|      12 - 8 oz jars|     25.0|         120|           0|          25|           0|\n",
      "|        7|Uncle Bob's Organ...|         3|         7|     12 - 1 lb pkgs.|     30.0|          15|           0|          10|           0|\n",
      "|        8|Northwoods Cranbe...|         3|         2|     12 - 12 oz jars|     40.0|           6|           0|           0|           0|\n",
      "|        9|     Mishi Kobe Niku|         4|         6|    18 - 500 g pkgs.|     97.0|          29|           0|           0|           1|\n",
      "|       10|               Ikura|         4|         8|    12 - 200 ml jars|     31.0|          31|           0|           0|           0|\n",
      "|       11|      Queso Cabrales|         5|         4|           1 kg pkg.|     21.0|          22|          30|          30|           0|\n",
      "|       12|Queso Manchego La...|         5|         4|    10 - 500 g pkgs.|     38.0|          86|           0|           0|           0|\n",
      "|       13|               Konbu|         6|         8|            2 kg box|      6.0|          24|           0|           5|           0|\n",
      "|       14|                Tofu|         6|         7|    40 - 100 g pkgs.|    23.25|          35|           0|           0|           0|\n",
      "|       15|        Genen Shouyu|         6|         2| 24 - 250 ml bottles|     13.0|          39|           0|           5|           0|\n",
      "|       16|             Pavlova|         7|         3|    32 - 500 g boxes|    17.45|          29|           0|          10|           0|\n",
      "|       17|        Alice Mutton|         7|         6|      20 - 1 kg tins|     39.0|           0|           0|           0|           1|\n",
      "|       18|    Carnarvon Tigers|         7|         8|          16 kg pkg.|     62.5|          42|           0|           0|           0|\n",
      "|       19|Teatime Chocolate...|         8|         3|10 boxes x 12 pieces|      9.2|          25|           0|           5|           0|\n",
      "|       20|Sir Rodney's Marm...|         8|         3|       30 gift boxes|     81.0|          40|           0|           0|           0|\n",
      "+---------+--------------------+----------+----------+--------------------+---------+------------+------------+------------+------------+\n",
      "only showing top 20 rows\n",
      "\n"
     ]
    }
   ],
   "source": [
    "prod2 = spark.sql('select * from products')\n",
    "print(prod2)\n",
    "prod2.show()\n"
   ]
  },
  {
   "cell_type": "markdown",
   "metadata": {
    "colab_type": "text",
    "id": "7uNzTBr_gUuR"
   },
   "source": [
    "## Read in a file to a Spark DataFrame."
   ]
  },
  {
   "cell_type": "code",
   "execution_count": 11,
   "metadata": {
    "colab": {},
    "colab_type": "code",
    "id": "9O2HurUbgUuS",
    "tags": []
   },
   "outputs": [
    {
     "name": "stdout",
     "output_type": "stream",
     "text": [
      "+----------+--------------+--------------------+\n",
      "|CategoryID|  CategoryName|         Description|\n",
      "+----------+--------------+--------------------+\n",
      "|         1|     Beverages|Soft drinks coffe...|\n",
      "|         2|    Condiments|Sweet and savory ...|\n",
      "|         3|   Confections|Desserts candies ...|\n",
      "|         4|Dairy Products|             Cheeses|\n",
      "|         5|Grains/Cereals|Breads crackers p...|\n",
      "|         6|  Meat/Poultry|      Prepared meats|\n",
      "|         7|       Produce|Dried fruit and b...|\n",
      "|         8|       Seafood|    Seaweed and fish|\n",
      "+----------+--------------+--------------------+\n",
      "\n"
     ]
    }
   ],
   "source": [
    "categories = spark.read.csv(f'{SOURCE_PATH}/northwind/CSVHeaders/categories', header=True)\n",
    "categories.show()\n"
   ]
  },
  {
   "cell_type": "markdown",
   "metadata": {
    "colab_type": "text",
    "id": "55rxI7rhgUuW"
   },
   "source": [
    "## Use createOrReplaceTempView to create a virtual table in the Hive catalog and then it can be queried using SQL as if it were a hive table."
   ]
  },
  {
   "cell_type": "code",
   "execution_count": 12,
   "metadata": {
    "colab": {},
    "colab_type": "code",
    "id": "B1QjuhcTgUuX",
    "tags": []
   },
   "outputs": [
    {
     "name": "stdout",
     "output_type": "stream",
     "text": [
      "+----------+------------+--------------------+\n",
      "|CategoryID|CategoryName|         Description|\n",
      "+----------+------------+--------------------+\n",
      "|         1|   Beverages|Soft drinks coffe...|\n",
      "+----------+------------+--------------------+\n",
      "\n",
      "1\n"
     ]
    }
   ],
   "source": [
    "categories.createOrReplaceTempView('categories')\n",
    "t1 =spark.sql('select * from categories where categoryid = 1')\n",
    "t1.show()\n",
    "print(t1.count())\n"
   ]
  },
  {
   "cell_type": "markdown",
   "metadata": {},
   "source": [
    "### The create table as syntax also works"
   ]
  },
  {
   "cell_type": "code",
   "execution_count": null,
   "metadata": {
    "colab": {},
    "colab_type": "code",
    "id": "c_t3CY5kgUud"
   },
   "outputs": [],
   "source": [
    "spark.sql('create table categories2 as select * from categories')\n"
   ]
  },
  {
   "cell_type": "markdown",
   "metadata": {
    "colab_type": "text",
    "id": "8YgAW8SdgUuh"
   },
   "source": [
    "## Queries use standard HQL to mix Hive tables and virtual tables. Both are read into a Spark DataFrame and the processing happens at the Spark level, not at the Hive level. HQL is just used to parse the logic into the corresponding Spark methods."
   ]
  },
  {
   "cell_type": "code",
   "execution_count": 18,
   "metadata": {
    "colab": {},
    "colab_type": "code",
    "id": "B5TTOFx_gUui",
    "tags": []
   },
   "outputs": [
    {
     "name": "stdout",
     "output_type": "stream",
     "text": [
      "+----------+--------------+---------+--------------------+\n",
      "|CategoryID|  categoryname|productid|         productname|\n",
      "+----------+--------------+---------+--------------------+\n",
      "|         1|     Beverages|        1|                Chai|\n",
      "|         2|    Condiments|        2|               Chang|\n",
      "|         3|   Confections|        3|       Aniseed Syrup|\n",
      "|         4|Dairy Products|        4|Chef Anton's Caju...|\n",
      "|         5|Grains/Cereals|        5|Chef Anton's Gumb...|\n",
      "|         6|  Meat/Poultry|        6|Grandma's Boysenb...|\n",
      "|         7|       Produce|        7|Uncle Bob's Organ...|\n",
      "|         8|       Seafood|        8|Northwoods Cranbe...|\n",
      "+----------+--------------+---------+--------------------+\n",
      "\n"
     ]
    }
   ],
   "source": [
    "sql = \"\"\"\n",
    "SELECT c.categoryid, c.categoryname, p.productid, p.productname\n",
    "from categories as c\n",
    "join products as p on c.categoryid = p.categoryid\n",
    "order by c.categoryid, p.productid\n",
    "\"\"\"\n",
    "df = spark.sql(sql)\n",
    "# df.show(10)\n",
    "\n",
    "df2 = categories.join(prod, categories.CategoryID == prod.productid) \\\n",
    "                .select(categories.CategoryID, 'categoryname', 'productid', 'productname') \\\n",
    "                .orderBy(categories.CategoryID, 'productid')\n",
    "\n",
    "df2.show(10)\n",
    "\n"
   ]
  },
  {
   "cell_type": "markdown",
   "metadata": {
    "colab_type": "text",
    "id": "gZfSSRw3gUvF"
   },
   "source": [
    "## Creating the regions2 DataFrame does not execute anything yet, but by making the DataFrame into a Temp View then running a Spark SQL query, it tells Spark to read the SQL data into a DataFrame and then use the cluster to do the processing, not the SQL source."
   ]
  },
  {
   "cell_type": "code",
   "execution_count": null,
   "metadata": {
    "colab": {},
    "colab_type": "code",
    "id": "NqdUrSUTgUvG"
   },
   "outputs": [],
   "source": [
    "regions2.createOrReplaceTempView('regions2')\n",
    "spark.sql('select * from regions2 where regionid < 3').show()"
   ]
  },
  {
   "cell_type": "code",
   "execution_count": null,
   "metadata": {
    "colab": {},
    "colab_type": "code",
    "id": "Jp8yIQMBoI0I"
   },
   "outputs": [],
   "source": [
    "spark.read.table('regions2').where('regionid < 3').show()"
   ]
  },
  {
   "cell_type": "markdown",
   "metadata": {
    "colab_type": "text",
    "id": "xt_OCqzCgUvK"
   },
   "source": [
    "## Alternate ways to code a query using SQL and methods."
   ]
  },
  {
   "cell_type": "code",
   "execution_count": null,
   "metadata": {
    "colab": {},
    "colab_type": "code",
    "id": "ZTph5vnOgUvL"
   },
   "outputs": [],
   "source": [
    "print(spark.sql('select count(*) from regions').collect())\n",
    "spark.sql('select * from regions').count()"
   ]
  },
  {
   "cell_type": "markdown",
   "metadata": {
    "colab_type": "text",
    "id": "ZQf2QOj2gUvQ"
   },
   "source": [
    "## Using SQL you can use familiar syntax instead of withColumn or withColumnRenamed methods.\n",
    "Note the expr function needs to be imported when you want to use a stringified SQL function using dot syntax."
   ]
  },
  {
   "cell_type": "code",
   "execution_count": null,
   "metadata": {
    "colab": {},
    "colab_type": "code",
    "id": "1p18BQ_pgUvR"
   },
   "outputs": [],
   "source": [
    "from pyspark.sql.functions import expr\n",
    "\n",
    "t1 = spark.sql('select TerritoryID as TerrID, UPPER(TerritoryName) as TerritoryName, RegionID from territories')\n",
    "t1.show(5)\n",
    "\n",
    "from pyspark.sql.functions import expr\n",
    "territories.withColumn('TerritoryName', expr('UPPER(TerritoryName)')).withColumnRenamed('TerritoryID', 'TerrID').show(5)\n"
   ]
  },
  {
   "cell_type": "code",
   "execution_count": null,
   "metadata": {
    "colab": {},
    "colab_type": "code",
    "id": "nsi73PpHoI0f"
   },
   "outputs": [],
   "source": [
    "from pyspark.sql.functions import udf\n",
    "from pyspark.sql.types import *\n",
    "\n",
    "# This won't work though if you want to use python functions, you need to go another step\n",
    "# territories.withColumn('TerritoryName', territories.TerritoryName.upper()).show()\n",
    "\n",
    "# You need to make the python function callable by spark by wrapping it in the udf function\n",
    "# which tells spark what datatype it returns\n",
    "territories.withColumn('TerritoryName', udf(str.upper, StringType())(territories.TerritoryName)).show()\n",
    "\n"
   ]
  },
  {
   "cell_type": "markdown",
   "metadata": {
    "colab_type": "text",
    "id": "E1_Baqf6gUvV"
   },
   "source": [
    "## If you want to use a function that is not a standard Python or SQL function, you can always create one in Python and make it callable from Spark."
   ]
  },
  {
   "cell_type": "code",
   "execution_count": null,
   "metadata": {
    "colab": {},
    "colab_type": "code",
    "id": "3DZ-p4MmoI0i"
   },
   "outputs": [],
   "source": [
    "from pyspark.sql.functions import udf\n",
    "from pyspark.sql.types import *\n",
    "\n",
    "def inventoryvalue(quantity, price):\n",
    "    return quantity * price\n",
    "\n",
    "# Turn the Python function into a Spark callable function\n",
    "invvalue = udf(inventoryvalue, FloatType())\n",
    "p = products\n",
    "p2 = p.withColumn('value', invvalue(p.unitsinstock, p.unitprice))\n",
    "display(p2)\n",
    "\n",
    "\n"
   ]
  },
  {
   "cell_type": "markdown",
   "metadata": {
    "colab_type": "text",
    "id": "2ANiYGYGoI0m"
   },
   "source": [
    "## Python decorators are an even better option."
   ]
  },
  {
   "cell_type": "code",
   "execution_count": null,
   "metadata": {
    "colab": {},
    "colab_type": "code",
    "id": "nQUKWKd3oI0n"
   },
   "outputs": [],
   "source": [
    "@udf(FloatType())\n",
    "def inventoryvalue(quantity, price):\n",
    "    return quantity * price\n",
    "\n",
    "p2 = p.withColumn('value', inventoryvalue(p.unitsinstock, p.unitprice))\n",
    "display(p2)\n"
   ]
  },
  {
   "cell_type": "code",
   "execution_count": null,
   "metadata": {
    "colab": {},
    "colab_type": "code",
    "id": "83gxIGtQoI0p"
   },
   "outputs": [],
   "source": [
    "from pyspark.sql.functions import udf\n",
    "from pyspark.sql.types import *\n",
    "\n",
    "def inventoryvalue(quantity, price):\n",
    "    return quantity * price\n",
    "\n",
    "# Or dynamically wrap it, but it's harder to read\n",
    "p2 = p.withColumn('value', udf(inventoryvalue, FloatType())(p.unitsinstock, p.unitprice))\n",
    "display(p2)\n",
    "\n"
   ]
  },
  {
   "cell_type": "markdown",
   "metadata": {
    "colab_type": "text",
    "id": "scBBkmrFgUvd"
   },
   "source": [
    "## To make it easier though, you could make the Python function into a udf that SQL can understand similar to how you can make a DataFrame seem like a virtual table with createOrReplaceTempView."
   ]
  },
  {
   "cell_type": "code",
   "execution_count": null,
   "metadata": {
    "colab": {},
    "colab_type": "code",
    "id": "A64igGvvgUvh"
   },
   "outputs": [],
   "source": [
    "def reverseString(x):\n",
    "    return x[::-1]\n",
    "\n",
    "spark.udf.register('reverse', reverseString, StringType())\n",
    "\n",
    "spark.sql('select *, reverse(TerritoryName) as Reversed from Territories').orderBy('Reversed').show()"
   ]
  },
  {
   "cell_type": "markdown",
   "metadata": {
    "colab_type": "text",
    "id": "11AafIOegUvl"
   },
   "source": [
    "## HQL has collect_set and collect_list functions to aggregate items into a list instead of summing them up. "
   ]
  },
  {
   "cell_type": "code",
   "execution_count": null,
   "metadata": {
    "colab": {},
    "colab_type": "code",
    "id": "cRm3IkEpgUvl",
    "scrolled": true
   },
   "outputs": [],
   "source": [
    "from pyspark.sql.functions import collect_list\n",
    "territories.groupBy(territories.RegionID).agg(collect_list(territories.TerritoryName)).show()\n",
    "\n",
    "tr1 = spark.sql(\"SELECT RegionID, collect_list(TerritoryName) AS TerritoryList FROM Territories GROUP BY RegionID\")\n",
    "tr1.show()\n",
    "tr1.printSchema()\n",
    "print(tr1.take(1))\n"
   ]
  },
  {
   "cell_type": "markdown",
   "metadata": {
    "colab_type": "text",
    "id": "l-onOtyzgUvo"
   },
   "source": [
    "## Instead of a simple datatype, you could also collect complex structured objects using the HQL NAMED_STRUCT."
   ]
  },
  {
   "cell_type": "code",
   "execution_count": null,
   "metadata": {
    "colab": {},
    "colab_type": "code",
    "id": "Tolziu_tgUvp"
   },
   "outputs": [],
   "source": [
    "sql = \"\"\"\n",
    "SELECT r.RegionID, r.RegionName\n",
    ", COLLECT_SET(NAMED_STRUCT(\"TerritoryID\", TerritoryID, \"TerritoryName\", TerritoryName)) AS TerritoryList\n",
    "FROM Regions AS r\n",
    "JOIN Territories AS t ON r.RegionID = t.RegionID\n",
    "GROUP BY r.RegionID, r.RegionName\n",
    "ORDER BY r.RegionID\n",
    "\"\"\"\n",
    "\n",
    "tr2 = spark.sql(sql)\n",
    "tr2.printSchema()\n",
    "print(tr2)\n",
    "tr2.show()\n",
    "print(tr2.take(2))\n",
    "tr2.write.json('TerritoryRegion.json')\n",
    "spark.sql('create table TerritoryRegion as ' + sql)"
   ]
  },
  {
   "cell_type": "markdown",
   "metadata": {
    "colab_type": "text",
    "id": "h4VnZ0MKgUvs"
   },
   "source": [
    "## If you have data that is already collected into a complex datatype and want to flatten it, you could use HQL EXPLODE function."
   ]
  },
  {
   "cell_type": "markdown",
   "metadata": {
    "colab_type": "text",
    "id": "paYQteGWgUvt"
   },
   "source": [
    "## You could use the Spark explode method."
   ]
  },
  {
   "cell_type": "code",
   "execution_count": null,
   "metadata": {
    "colab": {},
    "colab_type": "code",
    "id": "2rSesh3PgUvu"
   },
   "outputs": [],
   "source": [
    "from pyspark.sql.functions import explode\n",
    "tr1.select('RegionID', explode('TerritoryList')).show()\n"
   ]
  },
  {
   "cell_type": "markdown",
   "metadata": {
    "colab_type": "text",
    "id": "lXxOSvqAgUvx"
   },
   "source": [
    "## Or if the DataFrame is turned into a Temp View, you could use the HQL query to do it."
   ]
  },
  {
   "cell_type": "code",
   "execution_count": null,
   "metadata": {
    "colab": {},
    "colab_type": "code",
    "id": "fnianeudgUvy"
   },
   "outputs": [],
   "source": [
    "tr1.createOrReplaceTempView('RegionTerritories')\n",
    "sql = \"\"\"\n",
    "SELECT RegionID, TerritoryName\n",
    "FROM RegionTerritories\n",
    "LATERAL VIEW EXPLODE(TerritoryList) EXPLODED_TABLE AS TerritoryName\n",
    "ORDER BY RegionID, TerritoryName\n",
    "\"\"\"\n",
    "spark.sql(sql).show()"
   ]
  },
  {
   "cell_type": "markdown",
   "metadata": {
    "colab_type": "text",
    "id": "M4XqNW4xgUv2"
   },
   "source": [
    "## Or you could select specific elements from a collection."
   ]
  },
  {
   "cell_type": "code",
   "execution_count": null,
   "metadata": {
    "colab": {},
    "colab_type": "code",
    "id": "nYvKH3VxgUv3"
   },
   "outputs": [],
   "source": [
    "tr2.createOrReplaceTempView('RegionTerritories')\n",
    "spark.sql(\"select RegionId, RegionName, TerritoryList[0] as First, TerritoryList[size(TerritoryList) - 1] as Last, size(TerritoryList) as TerritoryCount from RegionTerritories\").show()\n"
   ]
  },
  {
   "cell_type": "markdown",
   "metadata": {
    "colab_type": "text",
    "id": "OgXXtetSgUv6"
   },
   "source": [
    "## If the array is of structs, note the syntax of fetching the elements from the struct uses the . like an object property."
   ]
  },
  {
   "cell_type": "code",
   "execution_count": null,
   "metadata": {
    "colab": {},
    "colab_type": "code",
    "id": "t4iyj0JAgUv7"
   },
   "outputs": [],
   "source": [
    "sql = \"\"\"\n",
    "SELECT RegionID, RegionName, Territory.TerritoryID AS TerritoryID\n",
    ", Territory.TerritoryName AS TerritoryName\n",
    "FROM RegionTerritories\n",
    "LATERAL VIEW EXPLODE(TerritoryList) EXPLODED_TABLE AS Territory\n",
    "\"\"\"\n",
    "spark.sql(sql).show()\n"
   ]
  },
  {
   "cell_type": "markdown",
   "metadata": {
    "colab_type": "text",
    "id": "MDIPBzWWgUwA"
   },
   "source": [
    "## HOMEWORK: ## \n",
    "**First Challenge**\n",
    "\n",
    "Create a Python function to determine if a number is odd or even and use that to select only the even numbered shippers from the TSV folder of northwind. Note the TSV file does not have headers so you will need to do something to make the DataFrame have a meaningful structure. I would suggest using Spark SQL as much as possible to rename and cast the columns which are ShipperID, CompanyName, and Phone.\n",
    "\n",
    "**Second Challenge**\n",
    "\n",
    "Take the Order_LineItems.json folder, read it into a DataFrame, and flatten it and then calculate the average price paid for a product.\n",
    "\n",
    "<br>\n",
    "<details><summary>Click for <b>hint</b></summary>\n",
    "<p>\n",
    "Take a look at the MakeOrders_LineItems.py file provided to see how the Order_LineItems.json was generated in the first place\n",
    "<br>\n",
    "Use modulus with remainder of zero to determine if something is even\n",
    "<br>\n",
    "Use udf to make a version of the function that is callable using dot syntax and udf.register to make a version callable from within a SQL string\n",
    "<br>\n",
    "Use LATERAL VIEW EXPLODE() EXPLODED_TABLE to flatten out the nested format file\n",
    "<br>\n",
    "Once flattened do a traditional aggregate to calculate the average\n",
    "<br>\n",
    "<br>\n",
    "</p>\n",
    "</details>\n",
    "\n",
    "\n",
    "\n"
   ]
  },
  {
   "cell_type": "code",
   "execution_count": null,
   "metadata": {},
   "outputs": [],
   "source": []
  }
 ],
 "metadata": {
  "colab": {
   "name": "Day3-SparkSQL.ipynb",
   "provenance": []
  },
  "kernelspec": {
   "display_name": "PySpark",
   "language": "python",
   "name": "pyspark"
  },
  "language_info": {
   "codemirror_mode": {
    "name": "ipython",
    "version": 3
   },
   "file_extension": ".py",
   "mimetype": "text/x-python",
   "name": "python",
   "nbconvert_exporter": "python",
   "pygments_lexer": "ipython3",
   "version": "3.11.8"
  }
 },
 "nbformat": 4,
 "nbformat_minor": 4
}
